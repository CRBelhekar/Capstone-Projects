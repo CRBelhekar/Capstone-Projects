{
  "nbformat": 4,
  "nbformat_minor": 0,
  "metadata": {
    "colab": {
      "name": "nyc-taxi-demand-prediction.ipynb",
      "provenance": [],
      "collapsed_sections": []
    },
    "kernelspec": {
      "name": "python3",
      "display_name": "Python 3"
    }
  },
  "cells": [
    {
      "cell_type": "code",
      "metadata": {
        "id": "oWGj0ucuI8eW",
        "outputId": "aaec125f-e4f7-4cd7-e208-bb7352d46a97",
        "colab": {
          "base_uri": "https://localhost:8080/",
          "height": 34
        }
      },
      "source": [
        "from google.colab import drive\n",
        "drive.mount('/content/drive')"
      ],
      "execution_count": null,
      "outputs": [
        {
          "output_type": "stream",
          "text": [
            "Mounted at /content/drive\n"
          ],
          "name": "stdout"
        }
      ]
    },
    {
      "cell_type": "code",
      "metadata": {
        "id": "9UTxZsjMKwRQ",
        "outputId": "973d6b42-78a0-481e-8109-3d823b56653b",
        "colab": {
          "base_uri": "https://localhost:8080/",
          "height": 394
        }
      },
      "source": [
        "pip install dask[dataframe]"
      ],
      "execution_count": null,
      "outputs": [
        {
          "output_type": "stream",
          "text": [
            "Requirement already satisfied: dask[dataframe] in /usr/local/lib/python3.6/dist-packages (2.12.0)\n",
            "Requirement already satisfied: pandas>=0.23.0; extra == \"dataframe\" in /usr/local/lib/python3.6/dist-packages (from dask[dataframe]) (1.1.2)\n",
            "Collecting fsspec>=0.6.0; extra == \"dataframe\"\n",
            "\u001b[?25l  Downloading https://files.pythonhosted.org/packages/4c/38/39b83c70ff47192255c15da1b602322cb9918682199d5c1d9cf128bdd531/fsspec-0.8.3-py3-none-any.whl (88kB)\n",
            "\u001b[K     |████████████████████████████████| 92kB 4.3MB/s \n",
            "\u001b[?25hRequirement already satisfied: toolz>=0.7.3; extra == \"dataframe\" in /usr/local/lib/python3.6/dist-packages (from dask[dataframe]) (0.11.1)\n",
            "Requirement already satisfied: numpy>=1.13.0; extra == \"dataframe\" in /usr/local/lib/python3.6/dist-packages (from dask[dataframe]) (1.18.5)\n",
            "Collecting partd>=0.3.10; extra == \"dataframe\"\n",
            "  Downloading https://files.pythonhosted.org/packages/44/e1/68dbe731c9c067655bff1eca5b7d40c20ca4b23fd5ec9f3d17e201a6f36b/partd-1.1.0-py3-none-any.whl\n",
            "Requirement already satisfied: python-dateutil>=2.7.3 in /usr/local/lib/python3.6/dist-packages (from pandas>=0.23.0; extra == \"dataframe\"->dask[dataframe]) (2.8.1)\n",
            "Requirement already satisfied: pytz>=2017.2 in /usr/local/lib/python3.6/dist-packages (from pandas>=0.23.0; extra == \"dataframe\"->dask[dataframe]) (2018.9)\n",
            "Collecting locket\n",
            "  Downloading https://files.pythonhosted.org/packages/d0/22/3c0f97614e0be8386542facb3a7dcfc2584f7b83608c02333bced641281c/locket-0.2.0.tar.gz\n",
            "Requirement already satisfied: six>=1.5 in /usr/local/lib/python3.6/dist-packages (from python-dateutil>=2.7.3->pandas>=0.23.0; extra == \"dataframe\"->dask[dataframe]) (1.15.0)\n",
            "Building wheels for collected packages: locket\n",
            "  Building wheel for locket (setup.py) ... \u001b[?25l\u001b[?25hdone\n",
            "  Created wheel for locket: filename=locket-0.2.0-cp36-none-any.whl size=4040 sha256=e9b0ca2022e8954a39b11b893c64ee5a80b3561a5409fd852ae330b3f7455e93\n",
            "  Stored in directory: /root/.cache/pip/wheels/26/1e/e8/4fa236ec931b1a0cdd61578e20d4934d7bf188858723b84698\n",
            "Successfully built locket\n",
            "Installing collected packages: fsspec, locket, partd\n",
            "Successfully installed fsspec-0.8.3 locket-0.2.0 partd-1.1.0\n"
          ],
          "name": "stdout"
        }
      ]
    },
    {
      "cell_type": "code",
      "metadata": {
        "id": "0SNEdS89jTAS",
        "outputId": "6ce0fee8-b19b-411e-d243-99fc69ba0844",
        "colab": {
          "base_uri": "https://localhost:8080/",
          "height": 187
        }
      },
      "source": [
        "!pip install gpxpy"
      ],
      "execution_count": null,
      "outputs": [
        {
          "output_type": "stream",
          "text": [
            "Collecting gpxpy\n",
            "\u001b[?25l  Downloading https://files.pythonhosted.org/packages/dd/23/a1c04fb3ea8d57d4b46cf2956c99a62dfbe009bbe091babeef90cc3d0ef6/gpxpy-1.4.2.tar.gz (105kB)\n",
            "\r\u001b[K     |███                             | 10kB 21.5MB/s eta 0:00:01\r\u001b[K     |██████▏                         | 20kB 6.9MB/s eta 0:00:01\r\u001b[K     |█████████▎                      | 30kB 7.1MB/s eta 0:00:01\r\u001b[K     |████████████▍                   | 40kB 8.5MB/s eta 0:00:01\r\u001b[K     |███████████████▌                | 51kB 6.4MB/s eta 0:00:01\r\u001b[K     |██████████████████▋             | 61kB 6.4MB/s eta 0:00:01\r\u001b[K     |█████████████████████▊          | 71kB 5.4MB/s eta 0:00:01\r\u001b[K     |████████████████████████▉       | 81kB 5.5MB/s eta 0:00:01\r\u001b[K     |████████████████████████████    | 92kB 5.4MB/s eta 0:00:01\r\u001b[K     |███████████████████████████████ | 102kB 5.7MB/s eta 0:00:01\r\u001b[K     |████████████████████████████████| 112kB 5.7MB/s \n",
            "\u001b[?25hBuilding wheels for collected packages: gpxpy\n",
            "  Building wheel for gpxpy (setup.py) ... \u001b[?25l\u001b[?25hdone\n",
            "  Created wheel for gpxpy: filename=gpxpy-1.4.2-cp36-none-any.whl size=42545 sha256=038d9bdd7f4c818f8722140c78968bc3abb24162cb5df07965075b9c8e0b778f\n",
            "  Stored in directory: /root/.cache/pip/wheels/d9/df/ed/b52985999b3967fa0ef8de22b3dc8ad3494ce3380d5328dd0f\n",
            "Successfully built gpxpy\n",
            "Installing collected packages: gpxpy\n",
            "Successfully installed gpxpy-1.4.2\n"
          ],
          "name": "stdout"
        }
      ]
    },
    {
      "cell_type": "code",
      "metadata": {
        "id": "6eKYCd9cMkgn"
      },
      "source": [
        "import dask.dataframe as dd\n",
        "import pandas as pd\n",
        "import matplotlib.pyplot as plt\n",
        "import numpy as np\n",
        "import seaborn as sns\n",
        "import os\n",
        "import xgboost as xgb\n",
        "import matplotlib\n",
        "import urllib.request\n",
        "import zipfile\n",
        "import random\n",
        "import itertools\n",
        "import math\n",
        "from sklearn.model_selection import GridSearchCV\n",
        "from datetime import datetime\n",
        "from sklearn.cluster import MiniBatchKMeans, KMeans\n",
        "import warnings\n",
        "import itertools\n",
        "import statsmodels.api as sm\n",
        "from sklearn.metrics import mean_absolute_error\n",
        "from sklearn.metrics import mean_squared_error\n",
        "from sklearn.preprocessing import StandardScaler\n",
        "from sklearn.ensemble import RandomForestRegressor\n",
        "from sklearn.linear_model import SGDRegressor\n",
        "import time\n",
        "import folium\n",
        "from folium import Choropleth ,  Circle, Marker\n",
        "import gpxpy.geo\n",
        "\n",
        "warnings.simplefilter('ignore')"
      ],
      "execution_count": null,
      "outputs": []
    },
    {
      "cell_type": "code",
      "metadata": {
        "id": "IvttgZa0MojM",
        "outputId": "eb8fda4f-102b-4c4c-920a-8ba5f5ca501e",
        "colab": {
          "base_uri": "https://localhost:8080/",
          "height": 224
        }
      },
      "source": [
        "#reading jan 2019 data\n",
        "\n",
        "data_jan_2019 = dd.read_csv(\"/content/drive/My Drive/nyc-project/dataset/yellow_tripdata_2019-01.csv\")\n",
        "data_jan_2019.head()"
      ],
      "execution_count": null,
      "outputs": [
        {
          "output_type": "execute_result",
          "data": {
            "text/html": [
              "<div>\n",
              "<style scoped>\n",
              "    .dataframe tbody tr th:only-of-type {\n",
              "        vertical-align: middle;\n",
              "    }\n",
              "\n",
              "    .dataframe tbody tr th {\n",
              "        vertical-align: top;\n",
              "    }\n",
              "\n",
              "    .dataframe thead th {\n",
              "        text-align: right;\n",
              "    }\n",
              "</style>\n",
              "<table border=\"1\" class=\"dataframe\">\n",
              "  <thead>\n",
              "    <tr style=\"text-align: right;\">\n",
              "      <th></th>\n",
              "      <th>VendorID</th>\n",
              "      <th>tpep_pickup_datetime</th>\n",
              "      <th>tpep_dropoff_datetime</th>\n",
              "      <th>passenger_count</th>\n",
              "      <th>trip_distance</th>\n",
              "      <th>RatecodeID</th>\n",
              "      <th>store_and_fwd_flag</th>\n",
              "      <th>PULocationID</th>\n",
              "      <th>DOLocationID</th>\n",
              "      <th>payment_type</th>\n",
              "      <th>fare_amount</th>\n",
              "      <th>extra</th>\n",
              "      <th>mta_tax</th>\n",
              "      <th>tip_amount</th>\n",
              "      <th>tolls_amount</th>\n",
              "      <th>improvement_surcharge</th>\n",
              "      <th>total_amount</th>\n",
              "      <th>congestion_surcharge</th>\n",
              "    </tr>\n",
              "  </thead>\n",
              "  <tbody>\n",
              "    <tr>\n",
              "      <th>0</th>\n",
              "      <td>1</td>\n",
              "      <td>2019-01-01 00:46:40</td>\n",
              "      <td>2019-01-01 00:53:20</td>\n",
              "      <td>1</td>\n",
              "      <td>1.5</td>\n",
              "      <td>1</td>\n",
              "      <td>N</td>\n",
              "      <td>151</td>\n",
              "      <td>239</td>\n",
              "      <td>1</td>\n",
              "      <td>7.0</td>\n",
              "      <td>0.5</td>\n",
              "      <td>0.5</td>\n",
              "      <td>1.65</td>\n",
              "      <td>0.0</td>\n",
              "      <td>0.3</td>\n",
              "      <td>9.95</td>\n",
              "      <td>NaN</td>\n",
              "    </tr>\n",
              "    <tr>\n",
              "      <th>1</th>\n",
              "      <td>1</td>\n",
              "      <td>2019-01-01 00:59:47</td>\n",
              "      <td>2019-01-01 01:18:59</td>\n",
              "      <td>1</td>\n",
              "      <td>2.6</td>\n",
              "      <td>1</td>\n",
              "      <td>N</td>\n",
              "      <td>239</td>\n",
              "      <td>246</td>\n",
              "      <td>1</td>\n",
              "      <td>14.0</td>\n",
              "      <td>0.5</td>\n",
              "      <td>0.5</td>\n",
              "      <td>1.00</td>\n",
              "      <td>0.0</td>\n",
              "      <td>0.3</td>\n",
              "      <td>16.30</td>\n",
              "      <td>NaN</td>\n",
              "    </tr>\n",
              "    <tr>\n",
              "      <th>2</th>\n",
              "      <td>2</td>\n",
              "      <td>2018-12-21 13:48:30</td>\n",
              "      <td>2018-12-21 13:52:40</td>\n",
              "      <td>3</td>\n",
              "      <td>0.0</td>\n",
              "      <td>1</td>\n",
              "      <td>N</td>\n",
              "      <td>236</td>\n",
              "      <td>236</td>\n",
              "      <td>1</td>\n",
              "      <td>4.5</td>\n",
              "      <td>0.5</td>\n",
              "      <td>0.5</td>\n",
              "      <td>0.00</td>\n",
              "      <td>0.0</td>\n",
              "      <td>0.3</td>\n",
              "      <td>5.80</td>\n",
              "      <td>NaN</td>\n",
              "    </tr>\n",
              "    <tr>\n",
              "      <th>3</th>\n",
              "      <td>2</td>\n",
              "      <td>2018-11-28 15:52:25</td>\n",
              "      <td>2018-11-28 15:55:45</td>\n",
              "      <td>5</td>\n",
              "      <td>0.0</td>\n",
              "      <td>1</td>\n",
              "      <td>N</td>\n",
              "      <td>193</td>\n",
              "      <td>193</td>\n",
              "      <td>2</td>\n",
              "      <td>3.5</td>\n",
              "      <td>0.5</td>\n",
              "      <td>0.5</td>\n",
              "      <td>0.00</td>\n",
              "      <td>0.0</td>\n",
              "      <td>0.3</td>\n",
              "      <td>7.55</td>\n",
              "      <td>NaN</td>\n",
              "    </tr>\n",
              "    <tr>\n",
              "      <th>4</th>\n",
              "      <td>2</td>\n",
              "      <td>2018-11-28 15:56:57</td>\n",
              "      <td>2018-11-28 15:58:33</td>\n",
              "      <td>5</td>\n",
              "      <td>0.0</td>\n",
              "      <td>2</td>\n",
              "      <td>N</td>\n",
              "      <td>193</td>\n",
              "      <td>193</td>\n",
              "      <td>2</td>\n",
              "      <td>52.0</td>\n",
              "      <td>0.0</td>\n",
              "      <td>0.5</td>\n",
              "      <td>0.00</td>\n",
              "      <td>0.0</td>\n",
              "      <td>0.3</td>\n",
              "      <td>55.55</td>\n",
              "      <td>NaN</td>\n",
              "    </tr>\n",
              "  </tbody>\n",
              "</table>\n",
              "</div>"
            ],
            "text/plain": [
              "   VendorID tpep_pickup_datetime  ... total_amount  congestion_surcharge\n",
              "0         1  2019-01-01 00:46:40  ...         9.95                   NaN\n",
              "1         1  2019-01-01 00:59:47  ...        16.30                   NaN\n",
              "2         2  2018-12-21 13:48:30  ...         5.80                   NaN\n",
              "3         2  2018-11-28 15:52:25  ...         7.55                   NaN\n",
              "4         2  2018-11-28 15:56:57  ...        55.55                   NaN\n",
              "\n",
              "[5 rows x 18 columns]"
            ]
          },
          "metadata": {
            "tags": []
          },
          "execution_count": 24
        }
      ]
    },
    {
      "cell_type": "code",
      "metadata": {
        "id": "fugODXmijiuk",
        "outputId": "9ab2d093-acb6-4cf5-aa6b-0347999dc81f",
        "colab": {
          "base_uri": "https://localhost:8080/",
          "height": 119
        }
      },
      "source": [
        "data_jan_2019.columns"
      ],
      "execution_count": null,
      "outputs": [
        {
          "output_type": "execute_result",
          "data": {
            "text/plain": [
              "Index(['VendorID', 'tpep_pickup_datetime', 'tpep_dropoff_datetime',\n",
              "       'passenger_count', 'trip_distance', 'RatecodeID', 'store_and_fwd_flag',\n",
              "       'PULocationID', 'DOLocationID', 'payment_type', 'fare_amount', 'extra',\n",
              "       'mta_tax', 'tip_amount', 'tolls_amount', 'improvement_surcharge',\n",
              "       'total_amount', 'congestion_surcharge'],\n",
              "      dtype='object')"
            ]
          },
          "metadata": {
            "tags": []
          },
          "execution_count": 27
        }
      ]
    },
    {
      "cell_type": "code",
      "metadata": {
        "id": "CZHupnGDqzeC",
        "outputId": "c11dfd83-84f1-4ba8-f5a3-14fff3174c74",
        "colab": {
          "base_uri": "https://localhost:8080/",
          "height": 34
        }
      },
      "source": [
        "len(data_jan_2019)"
      ],
      "execution_count": null,
      "outputs": [
        {
          "output_type": "execute_result",
          "data": {
            "text/plain": [
              "7667792"
            ]
          },
          "metadata": {
            "tags": []
          },
          "execution_count": 30
        }
      ]
    },
    {
      "cell_type": "code",
      "metadata": {
        "id": "sqVAFj8JjrjF",
        "outputId": "e0fbbc5c-b461-4f1d-b6a1-005d63c0c3fb",
        "colab": {
          "base_uri": "https://localhost:8080/",
          "height": 34
        }
      },
      "source": [
        "print(\"Number of columns: \" +str(len(data_jan_2019.columns)))"
      ],
      "execution_count": null,
      "outputs": [
        {
          "output_type": "stream",
          "text": [
            "Number of columns: 18\n"
          ],
          "name": "stdout"
        }
      ]
    },
    {
      "cell_type": "code",
      "metadata": {
        "id": "HNmtGx0wkP6N",
        "outputId": "5b072f67-8fbf-4197-d677-fca5708dff42",
        "colab": {
          "base_uri": "https://localhost:8080/",
          "height": 340
        }
      },
      "source": [
        "data_jan_2019.isnull().sum().compute()"
      ],
      "execution_count": null,
      "outputs": [
        {
          "output_type": "execute_result",
          "data": {
            "text/plain": [
              "VendorID                       0\n",
              "tpep_pickup_datetime           0\n",
              "tpep_dropoff_datetime          0\n",
              "passenger_count                0\n",
              "trip_distance                  0\n",
              "RatecodeID                     0\n",
              "store_and_fwd_flag             0\n",
              "PULocationID                   0\n",
              "DOLocationID                   0\n",
              "payment_type                   0\n",
              "fare_amount                    0\n",
              "extra                          0\n",
              "mta_tax                        0\n",
              "tip_amount                     0\n",
              "tolls_amount                   0\n",
              "improvement_surcharge          0\n",
              "total_amount                   0\n",
              "congestion_surcharge     4855978\n",
              "dtype: int64"
            ]
          },
          "metadata": {
            "tags": []
          },
          "execution_count": 31
        }
      ]
    },
    {
      "cell_type": "code",
      "metadata": {
        "id": "Fox91AgFrq58",
        "outputId": "a0132338-62b6-4dc7-bce6-12771bb18a56",
        "colab": {
          "base_uri": "https://localhost:8080/",
          "height": 224
        }
      },
      "source": [
        "data_jan_2019 = data_jan_2019.drop(columns=['congestion_surcharge'])\n",
        "data_jan_2019.head()"
      ],
      "execution_count": null,
      "outputs": [
        {
          "output_type": "execute_result",
          "data": {
            "text/html": [
              "<div>\n",
              "<style scoped>\n",
              "    .dataframe tbody tr th:only-of-type {\n",
              "        vertical-align: middle;\n",
              "    }\n",
              "\n",
              "    .dataframe tbody tr th {\n",
              "        vertical-align: top;\n",
              "    }\n",
              "\n",
              "    .dataframe thead th {\n",
              "        text-align: right;\n",
              "    }\n",
              "</style>\n",
              "<table border=\"1\" class=\"dataframe\">\n",
              "  <thead>\n",
              "    <tr style=\"text-align: right;\">\n",
              "      <th></th>\n",
              "      <th>VendorID</th>\n",
              "      <th>tpep_pickup_datetime</th>\n",
              "      <th>tpep_dropoff_datetime</th>\n",
              "      <th>passenger_count</th>\n",
              "      <th>trip_distance</th>\n",
              "      <th>RatecodeID</th>\n",
              "      <th>store_and_fwd_flag</th>\n",
              "      <th>PULocationID</th>\n",
              "      <th>DOLocationID</th>\n",
              "      <th>payment_type</th>\n",
              "      <th>fare_amount</th>\n",
              "      <th>extra</th>\n",
              "      <th>mta_tax</th>\n",
              "      <th>tip_amount</th>\n",
              "      <th>tolls_amount</th>\n",
              "      <th>improvement_surcharge</th>\n",
              "      <th>total_amount</th>\n",
              "    </tr>\n",
              "  </thead>\n",
              "  <tbody>\n",
              "    <tr>\n",
              "      <th>0</th>\n",
              "      <td>1</td>\n",
              "      <td>2019-01-01 00:46:40</td>\n",
              "      <td>2019-01-01 00:53:20</td>\n",
              "      <td>1</td>\n",
              "      <td>1.5</td>\n",
              "      <td>1</td>\n",
              "      <td>N</td>\n",
              "      <td>151</td>\n",
              "      <td>239</td>\n",
              "      <td>1</td>\n",
              "      <td>7.0</td>\n",
              "      <td>0.5</td>\n",
              "      <td>0.5</td>\n",
              "      <td>1.65</td>\n",
              "      <td>0.0</td>\n",
              "      <td>0.3</td>\n",
              "      <td>9.95</td>\n",
              "    </tr>\n",
              "    <tr>\n",
              "      <th>1</th>\n",
              "      <td>1</td>\n",
              "      <td>2019-01-01 00:59:47</td>\n",
              "      <td>2019-01-01 01:18:59</td>\n",
              "      <td>1</td>\n",
              "      <td>2.6</td>\n",
              "      <td>1</td>\n",
              "      <td>N</td>\n",
              "      <td>239</td>\n",
              "      <td>246</td>\n",
              "      <td>1</td>\n",
              "      <td>14.0</td>\n",
              "      <td>0.5</td>\n",
              "      <td>0.5</td>\n",
              "      <td>1.00</td>\n",
              "      <td>0.0</td>\n",
              "      <td>0.3</td>\n",
              "      <td>16.30</td>\n",
              "    </tr>\n",
              "    <tr>\n",
              "      <th>2</th>\n",
              "      <td>2</td>\n",
              "      <td>2018-12-21 13:48:30</td>\n",
              "      <td>2018-12-21 13:52:40</td>\n",
              "      <td>3</td>\n",
              "      <td>0.0</td>\n",
              "      <td>1</td>\n",
              "      <td>N</td>\n",
              "      <td>236</td>\n",
              "      <td>236</td>\n",
              "      <td>1</td>\n",
              "      <td>4.5</td>\n",
              "      <td>0.5</td>\n",
              "      <td>0.5</td>\n",
              "      <td>0.00</td>\n",
              "      <td>0.0</td>\n",
              "      <td>0.3</td>\n",
              "      <td>5.80</td>\n",
              "    </tr>\n",
              "    <tr>\n",
              "      <th>3</th>\n",
              "      <td>2</td>\n",
              "      <td>2018-11-28 15:52:25</td>\n",
              "      <td>2018-11-28 15:55:45</td>\n",
              "      <td>5</td>\n",
              "      <td>0.0</td>\n",
              "      <td>1</td>\n",
              "      <td>N</td>\n",
              "      <td>193</td>\n",
              "      <td>193</td>\n",
              "      <td>2</td>\n",
              "      <td>3.5</td>\n",
              "      <td>0.5</td>\n",
              "      <td>0.5</td>\n",
              "      <td>0.00</td>\n",
              "      <td>0.0</td>\n",
              "      <td>0.3</td>\n",
              "      <td>7.55</td>\n",
              "    </tr>\n",
              "    <tr>\n",
              "      <th>4</th>\n",
              "      <td>2</td>\n",
              "      <td>2018-11-28 15:56:57</td>\n",
              "      <td>2018-11-28 15:58:33</td>\n",
              "      <td>5</td>\n",
              "      <td>0.0</td>\n",
              "      <td>2</td>\n",
              "      <td>N</td>\n",
              "      <td>193</td>\n",
              "      <td>193</td>\n",
              "      <td>2</td>\n",
              "      <td>52.0</td>\n",
              "      <td>0.0</td>\n",
              "      <td>0.5</td>\n",
              "      <td>0.00</td>\n",
              "      <td>0.0</td>\n",
              "      <td>0.3</td>\n",
              "      <td>55.55</td>\n",
              "    </tr>\n",
              "  </tbody>\n",
              "</table>\n",
              "</div>"
            ],
            "text/plain": [
              "   VendorID tpep_pickup_datetime  ... improvement_surcharge  total_amount\n",
              "0         1  2019-01-01 00:46:40  ...                   0.3          9.95\n",
              "1         1  2019-01-01 00:59:47  ...                   0.3         16.30\n",
              "2         2  2018-12-21 13:48:30  ...                   0.3          5.80\n",
              "3         2  2018-11-28 15:52:25  ...                   0.3          7.55\n",
              "4         2  2018-11-28 15:56:57  ...                   0.3         55.55\n",
              "\n",
              "[5 rows x 17 columns]"
            ]
          },
          "metadata": {
            "tags": []
          },
          "execution_count": 32
        }
      ]
    },
    {
      "cell_type": "code",
      "metadata": {
        "id": "83GMuaKgNTCK"
      },
      "source": [
        "#adding Trip Duration Column\n",
        "\n",
        "def timeToUnix(t):\n",
        "    change = datetime.strptime(t, \"%Y-%m-%d %H:%M:%S\")\n",
        "    t_tuple = change.timetuple() \n",
        "    return time.mktime(t_tuple) + 3600\n",
        "\n",
        "def prepare_dataframe(df):\n",
        "    duration = df[[\"tpep_pickup_datetime\", \"tpep_dropoff_datetime\"]].compute()\n",
        "    pickup_time = [timeToUnix(pkup) for pkup in duration[\"tpep_pickup_datetime\"].values]\n",
        "    dropoff_time = [timeToUnix(drpof) for drpof in duration[\"tpep_dropoff_datetime\"].values]\n",
        "    trip_duration = (np.array(dropoff_time) - np.array(pickup_time))/float(60)  #trip duration in minutes\n",
        "    \n",
        "    dataFrame = df[['tpep_pickup_datetime','trip_distance','PULocationID','DOLocationID','total_amount']].compute()\n",
        "    dataFrame[\"trip_duration\"] = trip_duration\n",
        "    dataFrame[\"pickup_time\"] = pickup_time\n",
        "    dataFrame[\"speed\"] = (dataFrame[\"trip_distance\"]/dataFrame[\"trip_duration\"])*60  #speed in miles/hr\n",
        "    \n",
        "    return dataFrame"
      ],
      "execution_count": null,
      "outputs": []
    },
    {
      "cell_type": "code",
      "metadata": {
        "id": "ueUNmj29PYQQ",
        "outputId": "271ffd6f-791b-4a96-f4db-92be02328463",
        "colab": {
          "base_uri": "https://localhost:8080/",
          "height": 34
        }
      },
      "source": [
        "start = time.time()\n",
        "df_jan_2019 = prepare_dataframe(data_jan_2019)\n",
        "\n",
        "print(time.time()- start)"
      ],
      "execution_count": null,
      "outputs": [
        {
          "output_type": "stream",
          "text": [
            "217.6149332523346\n"
          ],
          "name": "stdout"
        }
      ]
    },
    {
      "cell_type": "code",
      "metadata": {
        "id": "et45sQHwPr0A",
        "outputId": "8c651d5a-f12b-437b-87f5-feabcefe9757",
        "colab": {
          "base_uri": "https://localhost:8080/",
          "height": 204
        }
      },
      "source": [
        "df_jan_2019.head()"
      ],
      "execution_count": null,
      "outputs": [
        {
          "output_type": "execute_result",
          "data": {
            "text/html": [
              "<div>\n",
              "<style scoped>\n",
              "    .dataframe tbody tr th:only-of-type {\n",
              "        vertical-align: middle;\n",
              "    }\n",
              "\n",
              "    .dataframe tbody tr th {\n",
              "        vertical-align: top;\n",
              "    }\n",
              "\n",
              "    .dataframe thead th {\n",
              "        text-align: right;\n",
              "    }\n",
              "</style>\n",
              "<table border=\"1\" class=\"dataframe\">\n",
              "  <thead>\n",
              "    <tr style=\"text-align: right;\">\n",
              "      <th></th>\n",
              "      <th>tpep_pickup_datetime</th>\n",
              "      <th>trip_distance</th>\n",
              "      <th>PULocationID</th>\n",
              "      <th>DOLocationID</th>\n",
              "      <th>total_amount</th>\n",
              "      <th>trip_duration</th>\n",
              "      <th>pickup_time</th>\n",
              "      <th>speed</th>\n",
              "    </tr>\n",
              "  </thead>\n",
              "  <tbody>\n",
              "    <tr>\n",
              "      <th>0</th>\n",
              "      <td>2019-01-01 00:46:40</td>\n",
              "      <td>1.5</td>\n",
              "      <td>151</td>\n",
              "      <td>239</td>\n",
              "      <td>9.95</td>\n",
              "      <td>6.666667</td>\n",
              "      <td>1.546307e+09</td>\n",
              "      <td>13.500</td>\n",
              "    </tr>\n",
              "    <tr>\n",
              "      <th>1</th>\n",
              "      <td>2019-01-01 00:59:47</td>\n",
              "      <td>2.6</td>\n",
              "      <td>239</td>\n",
              "      <td>246</td>\n",
              "      <td>16.30</td>\n",
              "      <td>19.200000</td>\n",
              "      <td>1.546308e+09</td>\n",
              "      <td>8.125</td>\n",
              "    </tr>\n",
              "    <tr>\n",
              "      <th>2</th>\n",
              "      <td>2018-12-21 13:48:30</td>\n",
              "      <td>0.0</td>\n",
              "      <td>236</td>\n",
              "      <td>236</td>\n",
              "      <td>5.80</td>\n",
              "      <td>4.166667</td>\n",
              "      <td>1.545404e+09</td>\n",
              "      <td>0.000</td>\n",
              "    </tr>\n",
              "    <tr>\n",
              "      <th>3</th>\n",
              "      <td>2018-11-28 15:52:25</td>\n",
              "      <td>0.0</td>\n",
              "      <td>193</td>\n",
              "      <td>193</td>\n",
              "      <td>7.55</td>\n",
              "      <td>3.333333</td>\n",
              "      <td>1.543424e+09</td>\n",
              "      <td>0.000</td>\n",
              "    </tr>\n",
              "    <tr>\n",
              "      <th>4</th>\n",
              "      <td>2018-11-28 15:56:57</td>\n",
              "      <td>0.0</td>\n",
              "      <td>193</td>\n",
              "      <td>193</td>\n",
              "      <td>55.55</td>\n",
              "      <td>1.600000</td>\n",
              "      <td>1.543424e+09</td>\n",
              "      <td>0.000</td>\n",
              "    </tr>\n",
              "  </tbody>\n",
              "</table>\n",
              "</div>"
            ],
            "text/plain": [
              "  tpep_pickup_datetime  trip_distance  ...   pickup_time   speed\n",
              "0  2019-01-01 00:46:40            1.5  ...  1.546307e+09  13.500\n",
              "1  2019-01-01 00:59:47            2.6  ...  1.546308e+09   8.125\n",
              "2  2018-12-21 13:48:30            0.0  ...  1.545404e+09   0.000\n",
              "3  2018-11-28 15:52:25            0.0  ...  1.543424e+09   0.000\n",
              "4  2018-11-28 15:56:57            0.0  ...  1.543424e+09   0.000\n",
              "\n",
              "[5 rows x 8 columns]"
            ]
          },
          "metadata": {
            "tags": []
          },
          "execution_count": 35
        }
      ]
    },
    {
      "cell_type": "code",
      "metadata": {
        "id": "bmjOgtj3SXaU",
        "outputId": "c0243408-7821-44bc-ffb2-3a78e3c0f963",
        "colab": {
          "base_uri": "https://localhost:8080/",
          "height": 398
        }
      },
      "source": [
        "plt.figure(figsize = (10,6))\n",
        "sns.boxplot(\"trip_duration\", data = df_jan_2019, orient = \"v\")\n",
        "plt.tick_params(labelsize = 20)\n",
        "plt.ylabel(\"Trip Duration(minutes)\", fontsize = 20)\n",
        "plt.show()"
      ],
      "execution_count": null,
      "outputs": [
        {
          "output_type": "display_data",
          "data": {
            "image/png": "[encoded data removed]",
            "text/plain": [
              "<Figure size 720x432 with 1 Axes>"
            ]
          },
          "metadata": {
            "tags": [],
            "needs_background": "light"
          }
        }
      ]
    },
    {
      "cell_type": "code",
      "metadata": {
        "id": "G_SNMbIPfrW4",
        "outputId": "9094b4f9-22ea-40da-e1cb-46c3c5af2e1f",
        "colab": {
          "base_uri": "https://localhost:8080/",
          "height": 272
        }
      },
      "source": [
        "#deleting courses with trip duration > 12h & trip duration < 0h\n",
        "df1_jan_2019 = df_jan_2019[(df_jan_2019.trip_duration>1) & (df_jan_2019.trip_duration<720)]\n",
        "df1_jan_2019.info()"
      ],
      "execution_count": null,
      "outputs": [
        {
          "output_type": "stream",
          "text": [
            "<class 'pandas.core.frame.DataFrame'>\n",
            "Int64Index: 7572771 entries, 0 to 521249\n",
            "Data columns (total 8 columns):\n",
            " #   Column                Dtype  \n",
            "---  ------                -----  \n",
            " 0   tpep_pickup_datetime  object \n",
            " 1   trip_distance         float64\n",
            " 2   PULocationID          int64  \n",
            " 3   DOLocationID          int64  \n",
            " 4   total_amount          float64\n",
            " 5   trip_duration         float64\n",
            " 6   pickup_time           float64\n",
            " 7   speed                 float64\n",
            "dtypes: float64(5), int64(2), object(1)\n",
            "memory usage: 520.0+ MB\n"
          ],
          "name": "stdout"
        }
      ]
    },
    {
      "cell_type": "code",
      "metadata": {
        "id": "PrxTA2ejid0f",
        "outputId": "e1e873c8-b7b1-433a-d278-b78fa30f275f",
        "colab": {
          "base_uri": "https://localhost:8080/",
          "height": 398
        }
      },
      "source": [
        "#trip distance\n",
        "fig = plt.figure(figsize = (10,6))\n",
        "ax = sns.boxplot(\"trip_distance\", data = df1_jan_2019, orient = \"v\")\n",
        "\n",
        "plt.tick_params(labelsize = 20)\n",
        "plt.ylabel(\"Trip Distance(Miles)\", fontsize = 20)\n",
        "plt.show()"
      ],
      "execution_count": null,
      "outputs": [
        {
          "output_type": "display_data",
          "data": {
            "image/png": "[encoded data removed]",
            "text/plain": [
              "<Figure size 720x432 with 1 Axes>"
            ]
          },
          "metadata": {
            "tags": [],
            "needs_background": "light"
          }
        }
      ]
    },
    {
      "cell_type": "code",
      "metadata": {
        "id": "WJVBhA5kiyuc",
        "outputId": "972acfb1-4cd9-4968-ced0-e4f376ffea18",
        "colab": {
          "base_uri": "https://localhost:8080/",
          "height": 204
        }
      },
      "source": [
        "# We investigate Quartiles\n",
        "quantile_tripDistance = df1_jan_2019.trip_distance.quantile(np.round(np.arange(0.00, 1.01, 0.01), 2))\n",
        "qValues = np.round(np.arange(0.00, 1.01, 0.1), 2)\n",
        "for i in qValues:\n",
        "    print(\"{}th percentile value of trip distance is {}miles\".format(int(i*100), quantile_tripDistance[i]))"
      ],
      "execution_count": null,
      "outputs": [
        {
          "output_type": "stream",
          "text": [
            "0th percentile value of trip distance is 0.0miles\n",
            "10th percentile value of trip distance is 0.6miles\n",
            "20th percentile value of trip distance is 0.82miles\n",
            "30th percentile value of trip distance is 1.03miles\n",
            "40th percentile value of trip distance is 1.28miles\n",
            "50th percentile value of trip distance is 1.55miles\n",
            "60th percentile value of trip distance is 1.9miles\n",
            "70th percentile value of trip distance is 2.43miles\n",
            "80th percentile value of trip distance is 3.4miles\n",
            "90th percentile value of trip distance is 6.43miles\n",
            "100th percentile value of trip distance is 831.8miles\n"
          ],
          "name": "stdout"
        }
      ]
    },
    {
      "cell_type": "code",
      "metadata": {
        "id": "QFyffRZyjaXY",
        "outputId": "a703ab1e-5865-4f8b-b972-892881cab50c",
        "colab": {
          "base_uri": "https://localhost:8080/",
          "height": 187
        }
      },
      "source": [
        "quantile_tripDistance = df1_jan_2019.trip_distance.quantile(np.round(np.arange(0.991, 1.001, 0.001), 4))\n",
        "qValues = np.round(np.arange(0.991, 1.001, 0.001), 3)\n",
        "for i in qValues:\n",
        "    print(\"{} percentile value of trip distance is {}miles\".format((i*100), quantile_tripDistance[i]))\n",
        "\n"
      ],
      "execution_count": null,
      "outputs": [
        {
          "output_type": "stream",
          "text": [
            "99.1 percentile value of trip distance is 19.15miles\n",
            "99.2 percentile value of trip distance is 19.4miles\n",
            "99.3 percentile value of trip distance is 19.71miles\n",
            "99.4 percentile value of trip distance is 20.1miles\n",
            "99.5 percentile value of trip distance is 20.5miles\n",
            "99.6 percentile value of trip distance is 21.0miles\n",
            "99.7 percentile value of trip distance is 21.6miles\n",
            "99.8 percentile value of trip distance is 22.7miles\n",
            "99.9 percentile value of trip distance is 26.29miles\n",
            "100.0 percentile value of trip distance is 831.8miles\n"
          ],
          "name": "stdout"
        }
      ]
    },
    {
      "cell_type": "code",
      "metadata": {
        "id": "UtejmkcZjtSI",
        "outputId": "4ee7a4ac-63aa-4719-9031-511fd9dcfe62",
        "colab": {
          "base_uri": "https://localhost:8080/",
          "height": 34
        }
      },
      "source": [
        "#Removing courses with erounous speed\n",
        "df1_jan_2019 = df1_jan_2019[(df1_jan_2019.trip_distance>0) & (df1_jan_2019.trip_distance<27)]\n",
        "df1_jan_2019.shape\n"
      ],
      "execution_count": null,
      "outputs": [
        {
          "output_type": "execute_result",
          "data": {
            "text/plain": [
              "(7554959, 8)"
            ]
          },
          "metadata": {
            "tags": []
          },
          "execution_count": 41
        }
      ]
    },
    {
      "cell_type": "code",
      "metadata": {
        "id": "k0zg8stXkFl4",
        "outputId": "df2b8c7c-3b20-4805-b5a0-fbde644103f8",
        "colab": {
          "base_uri": "https://localhost:8080/",
          "height": 397
        }
      },
      "source": [
        "#speed\n",
        "fig = plt.figure(figsize = (10,6))\n",
        "ax = sns.boxplot(\"speed\", data = df1_jan_2019, orient = \"v\")\n",
        "\n",
        "plt.tick_params(labelsize = 20)\n",
        "plt.ylabel(\"Speed(Miles/hr)\", fontsize = 20)\n",
        "plt.show()"
      ],
      "execution_count": null,
      "outputs": [
        {
          "output_type": "display_data",
          "data": {
            "image/png": "[encoded data removed]",
            "text/plain": [
              "<Figure size 720x432 with 1 Axes>"
            ]
          },
          "metadata": {
            "tags": [],
            "needs_background": "light"
          }
        }
      ]
    },
    {
      "cell_type": "code",
      "metadata": {
        "id": "ROZLnbgokU-D",
        "outputId": "0ef44dd0-f0ab-4b11-cc58-3d1815d248fe",
        "colab": {
          "base_uri": "https://localhost:8080/",
          "height": 204
        }
      },
      "source": [
        "quantile_speed = df1_jan_2019.speed.quantile(np.round(np.arange(0.00, 1.01, 0.01), 2))\n",
        "qValues = np.round(np.arange(0.00, 1.01, 0.1), 4)\n",
        "for i in qValues:\n",
        "    print(\"{}th percentile value of speed is {} miles/hr\".format(int(i*100), quantile_speed[i]))"
      ],
      "execution_count": null,
      "outputs": [
        {
          "output_type": "stream",
          "text": [
            "0th percentile value of speed is 0.001694995056264419 miles/hr\n",
            "10th percentile value of speed is 5.860465116279069 miles/hr\n",
            "20th percentile value of speed is 7.12871287128713 miles/hr\n",
            "30th percentile value of speed is 8.145985401459853 miles/hr\n",
            "40th percentile value of speed is 9.111294311624073 miles/hr\n",
            "50th percentile value of speed is 10.120879120879122 miles/hr\n",
            "60th percentile value of speed is 11.283582089552237 miles/hr\n",
            "70th percentile value of speed is 12.76595744680851 miles/hr\n",
            "80th percentile value of speed is 15.0 miles/hr\n",
            "90th percentile value of speed is 19.509677419354837 miles/hr\n",
            "100th percentile value of speed is 1355.625 miles/hr\n"
          ],
          "name": "stdout"
        }
      ]
    },
    {
      "cell_type": "code",
      "metadata": {
        "id": "VZQ5WluXke7e",
        "outputId": "80750723-3571-4850-81bb-3b436a3c2f3d",
        "colab": {
          "base_uri": "https://localhost:8080/",
          "height": 187
        }
      },
      "source": [
        "\n",
        "qValues = np.round(np.arange(0.991, 1.001, 0.001), 4)\n",
        "quantile_speed = df1_jan_2019.speed.quantile(qValues)\n",
        "for i in qValues:\n",
        "    print(\"{} percentile value of speed is {} miles/hr\".format((i*100), quantile_speed[i]))"
      ],
      "execution_count": null,
      "outputs": [
        {
          "output_type": "stream",
          "text": [
            "99.1 percentile value of speed is 35.840505204286984 miles/hr\n",
            "99.2 percentile value of speed is 36.46077871652756 miles/hr\n",
            "99.3 percentile value of speed is 37.12943544176368 miles/hr\n",
            "99.4 percentile value of speed is 37.87110187110187 miles/hr\n",
            "99.5 percentile value of speed is 38.704830053667266 miles/hr\n",
            "99.6 percentile value of speed is 39.685884691848905 miles/hr\n",
            "99.7 percentile value of speed is 40.835463794257095 miles/hr\n",
            "99.8 percentile value of speed is 42.39138862876233 miles/hr\n",
            "99.9 percentile value of speed is 44.7503116672897 miles/hr\n",
            "100.0 percentile value of speed is 1355.625 miles/hr\n"
          ],
          "name": "stdout"
        }
      ]
    },
    {
      "cell_type": "code",
      "metadata": {
        "id": "jgXdCdASklSI"
      },
      "source": [
        "#Deleting courses with erounous speed\n",
        "df1_jan_2019 = df1_jan_2019[(df1_jan_2019.speed>0) & (df1_jan_2019.speed<45)]"
      ],
      "execution_count": null,
      "outputs": []
    },
    {
      "cell_type": "code",
      "metadata": {
        "id": "FrlHC5zrk1B4",
        "outputId": "063653d5-ced7-470a-9ccf-de748ebeb6b6",
        "colab": {
          "base_uri": "https://localhost:8080/",
          "height": 34
        }
      },
      "source": [
        "df1_jan_2019.shape"
      ],
      "execution_count": null,
      "outputs": [
        {
          "output_type": "execute_result",
          "data": {
            "text/plain": [
              "(7547954, 8)"
            ]
          },
          "metadata": {
            "tags": []
          },
          "execution_count": 46
        }
      ]
    },
    {
      "cell_type": "code",
      "metadata": {
        "id": "X5iDd4Qhk4kC",
        "outputId": "3327ffa4-40e5-43c9-f4b3-ab0138c99cc6",
        "colab": {
          "base_uri": "https://localhost:8080/",
          "height": 398
        }
      },
      "source": [
        "# total amount\n",
        "fig = plt.figure(figsize = (10,6))\n",
        "ax = sns.boxplot(\"total_amount\", data = df1_jan_2019, orient = \"v\")\n",
        "\n",
        "plt.tick_params(labelsize = 20)\n",
        "plt.ylabel(\"Trip Fare\", fontsize = 20)\n",
        "plt.show()"
      ],
      "execution_count": null,
      "outputs": [
        {
          "output_type": "display_data",
          "data": {
            "image/png": "[encoded data removed]",
            "text/plain": [
              "<Figure size 720x432 with 1 Axes>"
            ]
          },
          "metadata": {
            "tags": [],
            "needs_background": "light"
          }
        }
      ]
    },
    {
      "cell_type": "code",
      "metadata": {
        "id": "f6UNLy-vlFob",
        "outputId": "49b60f59-4e1c-42a7-b3ca-6b51d04784be",
        "colab": {
          "base_uri": "https://localhost:8080/",
          "height": 187
        }
      },
      "source": [
        "quantile_totalAmount = df1_jan_2019.total_amount.quantile(np.round(np.arange(0.991, 1.001, 0.001), 3))\n",
        "qValues = np.round(np.arange(0.991, 1.001, 0.001), 3)\n",
        "for i in qValues:\n",
        "    print(\"{} percentile value of trip fare is {}\".format((i*100), quantile_totalAmount[i]))\n"
      ],
      "execution_count": null,
      "outputs": [
        {
          "output_type": "stream",
          "text": [
            "99.1 percentile value of trip fare is 70.27\n",
            "99.2 percentile value of trip fare is 70.27\n",
            "99.3 percentile value of trip fare is 70.27\n",
            "99.4 percentile value of trip fare is 73.06\n",
            "99.5 percentile value of trip fare is 73.2\n",
            "99.6 percentile value of trip fare is 75.67\n",
            "99.7 percentile value of trip fare is 76.13\n",
            "99.8 percentile value of trip fare is 81.51\n",
            "99.9 percentile value of trip fare is 94.60047000001184\n",
            "100.0 percentile value of trip fare is 623261.66\n"
          ],
          "name": "stdout"
        }
      ]
    },
    {
      "cell_type": "code",
      "metadata": {
        "id": "XiQ9GKjPlOkM",
        "outputId": "fbc554d0-700a-4ea0-cfd3-d48c67ab8cb0",
        "colab": {
          "base_uri": "https://localhost:8080/",
          "height": 34
        }
      },
      "source": [
        "df1_jan_2019 = df1_jan_2019[(df1_jan_2019.total_amount>0) & (df1_jan_2019.total_amount<95)]\n",
        "df1_jan_2019.shape"
      ],
      "execution_count": null,
      "outputs": [
        {
          "output_type": "execute_result",
          "data": {
            "text/plain": [
              "(7536057, 8)"
            ]
          },
          "metadata": {
            "tags": []
          },
          "execution_count": 49
        }
      ]
    },
    {
      "cell_type": "code",
      "metadata": {
        "id": "Dj9DcGMElpyy",
        "outputId": "c96230ee-f418-47ed-8f8e-9fb3f64d6113",
        "colab": {
          "base_uri": "https://localhost:8080/",
          "height": 397
        }
      },
      "source": [
        "# location ID\n",
        "fig = plt.figure(figsize = (10,6))\n",
        "ax = sns.boxplot(\"PULocationID\", data = df1_jan_2019, orient = \"v\")\n",
        "\n",
        "plt.tick_params(labelsize = 20)\n",
        "plt.ylabel(\"Location ID\", fontsize = 20)\n",
        "plt.show()"
      ],
      "execution_count": null,
      "outputs": [
        {
          "output_type": "display_data",
          "data": {
            "image/png": "[encoded data removed]",
            "text/plain": [
              "<Figure size 720x432 with 1 Axes>"
            ]
          },
          "metadata": {
            "tags": [],
            "needs_background": "light"
          }
        }
      ]
    },
    {
      "cell_type": "code",
      "metadata": {
        "id": "Ir9BNtv_mJBD",
        "outputId": "00d8638d-e761-424d-a391-644b57fb5ca7",
        "colab": {
          "base_uri": "https://localhost:8080/",
          "height": 397
        }
      },
      "source": [
        "# location ID\n",
        "fig = plt.figure(figsize = (10,6))\n",
        "ax = sns.boxplot(\"DOLocationID\", data = df1_jan_2019, orient = \"v\")\n",
        "\n",
        "plt.tick_params(labelsize = 20)\n",
        "plt.ylabel(\"Location ID\", fontsize = 20)\n",
        "plt.show()"
      ],
      "execution_count": null,
      "outputs": [
        {
          "output_type": "display_data",
          "data": {
            "image/png": "[encoded data removed]",
            "text/plain": [
              "<Figure size 720x432 with 1 Axes>"
            ]
          },
          "metadata": {
            "tags": [],
            "needs_background": "light"
          }
        }
      ]
    },
    {
      "cell_type": "code",
      "metadata": {
        "id": "cqZXkSLDmRFR"
      },
      "source": [
        "#Clustering pickups\n",
        "coord = df1_jan_2019[[\"PULocationID\"]].values\n",
        "regions = MiniBatchKMeans(n_clusters = 30, batch_size = 10000).fit(coord)"
      ],
      "execution_count": null,
      "outputs": []
    },
    {
      "cell_type": "code",
      "metadata": {
        "id": "4nBsgRFDmuas",
        "outputId": "0a6baff5-6805-480c-98f2-992daeab6f6d",
        "colab": {
          "base_uri": "https://localhost:8080/",
          "height": 204
        }
      },
      "source": [
        "cluster_column = regions.predict(df1_jan_2019[[\"PULocationID\"]])\n",
        "df1_jan_2019[\"pickup_cluster\"] = cluster_column\n",
        "df1_jan_2019.head()"
      ],
      "execution_count": null,
      "outputs": [
        {
          "output_type": "execute_result",
          "data": {
            "text/html": [
              "<div>\n",
              "<style scoped>\n",
              "    .dataframe tbody tr th:only-of-type {\n",
              "        vertical-align: middle;\n",
              "    }\n",
              "\n",
              "    .dataframe tbody tr th {\n",
              "        vertical-align: top;\n",
              "    }\n",
              "\n",
              "    .dataframe thead th {\n",
              "        text-align: right;\n",
              "    }\n",
              "</style>\n",
              "<table border=\"1\" class=\"dataframe\">\n",
              "  <thead>\n",
              "    <tr style=\"text-align: right;\">\n",
              "      <th></th>\n",
              "      <th>tpep_pickup_datetime</th>\n",
              "      <th>trip_distance</th>\n",
              "      <th>PULocationID</th>\n",
              "      <th>DOLocationID</th>\n",
              "      <th>total_amount</th>\n",
              "      <th>trip_duration</th>\n",
              "      <th>pickup_time</th>\n",
              "      <th>speed</th>\n",
              "      <th>pickup_cluster</th>\n",
              "    </tr>\n",
              "  </thead>\n",
              "  <tbody>\n",
              "    <tr>\n",
              "      <th>0</th>\n",
              "      <td>2019-01-01 00:46:40</td>\n",
              "      <td>1.5</td>\n",
              "      <td>151</td>\n",
              "      <td>239</td>\n",
              "      <td>9.95</td>\n",
              "      <td>6.666667</td>\n",
              "      <td>1.546307e+09</td>\n",
              "      <td>13.500000</td>\n",
              "      <td>16</td>\n",
              "    </tr>\n",
              "    <tr>\n",
              "      <th>1</th>\n",
              "      <td>2019-01-01 00:59:47</td>\n",
              "      <td>2.6</td>\n",
              "      <td>239</td>\n",
              "      <td>246</td>\n",
              "      <td>16.30</td>\n",
              "      <td>19.200000</td>\n",
              "      <td>1.546308e+09</td>\n",
              "      <td>8.125000</td>\n",
              "      <td>17</td>\n",
              "    </tr>\n",
              "    <tr>\n",
              "      <th>7</th>\n",
              "      <td>2019-01-01 00:21:28</td>\n",
              "      <td>1.3</td>\n",
              "      <td>163</td>\n",
              "      <td>229</td>\n",
              "      <td>9.05</td>\n",
              "      <td>7.150000</td>\n",
              "      <td>1.546306e+09</td>\n",
              "      <td>10.909091</td>\n",
              "      <td>2</td>\n",
              "    </tr>\n",
              "    <tr>\n",
              "      <th>8</th>\n",
              "      <td>2019-01-01 00:32:01</td>\n",
              "      <td>3.7</td>\n",
              "      <td>229</td>\n",
              "      <td>7</td>\n",
              "      <td>18.50</td>\n",
              "      <td>13.633333</td>\n",
              "      <td>1.546306e+09</td>\n",
              "      <td>16.283619</td>\n",
              "      <td>21</td>\n",
              "    </tr>\n",
              "    <tr>\n",
              "      <th>9</th>\n",
              "      <td>2019-01-01 00:57:32</td>\n",
              "      <td>2.1</td>\n",
              "      <td>141</td>\n",
              "      <td>234</td>\n",
              "      <td>13.00</td>\n",
              "      <td>12.000000</td>\n",
              "      <td>1.546308e+09</td>\n",
              "      <td>10.500000</td>\n",
              "      <td>4</td>\n",
              "    </tr>\n",
              "  </tbody>\n",
              "</table>\n",
              "</div>"
            ],
            "text/plain": [
              "  tpep_pickup_datetime  trip_distance  ...      speed  pickup_cluster\n",
              "0  2019-01-01 00:46:40            1.5  ...  13.500000              16\n",
              "1  2019-01-01 00:59:47            2.6  ...   8.125000              17\n",
              "7  2019-01-01 00:21:28            1.3  ...  10.909091               2\n",
              "8  2019-01-01 00:32:01            3.7  ...  16.283619              21\n",
              "9  2019-01-01 00:57:32            2.1  ...  10.500000               4\n",
              "\n",
              "[5 rows x 9 columns]"
            ]
          },
          "metadata": {
            "tags": []
          },
          "execution_count": 53
        }
      ]
    },
    {
      "cell_type": "code",
      "metadata": {
        "id": "TFF2HamEm6uY",
        "outputId": "98a6fee1-7210-4ab3-cdfe-58d1931bc347",
        "colab": {
          "base_uri": "https://localhost:8080/",
          "height": 51
        }
      },
      "source": [
        "df1_jan_2019[\"pickup_cluster\"].unique()"
      ],
      "execution_count": null,
      "outputs": [
        {
          "output_type": "execute_result",
          "data": {
            "text/plain": [
              "array([16, 17,  2, 21,  4,  9, 18, 20, 22, 11, 29, 25, 19,  6, 15, 13, 14,\n",
              "       10, 27,  5,  1,  3, 28,  7, 24,  8, 12,  0, 26, 23], dtype=int32)"
            ]
          },
          "metadata": {
            "tags": []
          },
          "execution_count": 54
        }
      ]
    },
    {
      "cell_type": "code",
      "metadata": {
        "id": "L6CrPMyYnD27"
      },
      "source": [
        "#Grouping the mounthly data by region\n",
        "df1_jan_2019.rename(columns={'tpep_pickup_datetime':'time','trip_distance':'demand',},inplace=True)\n",
        "df1_jan_2019['time'] = pd.to_datetime(df1_jan_2019['time'])\n",
        "grouped_df_jan_2019 = df1_jan_2019[[\"pickup_cluster\", \"time\", \"demand\"]].groupby(by = [\"pickup_cluster\", \"time\"]).count()"
      ],
      "execution_count": null,
      "outputs": []
    },
    {
      "cell_type": "code",
      "metadata": {
        "id": "CTh40QNtpsFd",
        "outputId": "e2f062a0-961b-4a0e-87a9-3ab982c8bd61",
        "colab": {
          "base_uri": "https://localhost:8080/",
          "height": 235
        }
      },
      "source": [
        "grouped_df_jan_2019.head()"
      ],
      "execution_count": null,
      "outputs": [
        {
          "output_type": "execute_result",
          "data": {
            "text/html": [
              "<div>\n",
              "<style scoped>\n",
              "    .dataframe tbody tr th:only-of-type {\n",
              "        vertical-align: middle;\n",
              "    }\n",
              "\n",
              "    .dataframe tbody tr th {\n",
              "        vertical-align: top;\n",
              "    }\n",
              "\n",
              "    .dataframe thead th {\n",
              "        text-align: right;\n",
              "    }\n",
              "</style>\n",
              "<table border=\"1\" class=\"dataframe\">\n",
              "  <thead>\n",
              "    <tr style=\"text-align: right;\">\n",
              "      <th></th>\n",
              "      <th></th>\n",
              "      <th>demand</th>\n",
              "    </tr>\n",
              "    <tr>\n",
              "      <th>pickup_cluster</th>\n",
              "      <th>time</th>\n",
              "      <th></th>\n",
              "    </tr>\n",
              "  </thead>\n",
              "  <tbody>\n",
              "    <tr>\n",
              "      <th rowspan=\"5\" valign=\"top\">0</th>\n",
              "      <th>2009-01-01 00:21:52</th>\n",
              "      <td>1</td>\n",
              "    </tr>\n",
              "    <tr>\n",
              "      <th>2018-12-31 16:48:55</th>\n",
              "      <td>1</td>\n",
              "    </tr>\n",
              "    <tr>\n",
              "      <th>2018-12-31 17:22:10</th>\n",
              "      <td>1</td>\n",
              "    </tr>\n",
              "    <tr>\n",
              "      <th>2018-12-31 18:45:10</th>\n",
              "      <td>1</td>\n",
              "    </tr>\n",
              "    <tr>\n",
              "      <th>2018-12-31 20:04:48</th>\n",
              "      <td>1</td>\n",
              "    </tr>\n",
              "  </tbody>\n",
              "</table>\n",
              "</div>"
            ],
            "text/plain": [
              "                                    demand\n",
              "pickup_cluster time                       \n",
              "0              2009-01-01 00:21:52       1\n",
              "               2018-12-31 16:48:55       1\n",
              "               2018-12-31 17:22:10       1\n",
              "               2018-12-31 18:45:10       1\n",
              "               2018-12-31 20:04:48       1"
            ]
          },
          "metadata": {
            "tags": []
          },
          "execution_count": 56
        }
      ]
    },
    {
      "cell_type": "code",
      "metadata": {
        "id": "sMX_bhStpTG9"
      },
      "source": [
        "#Cluster example\n",
        "cluster = grouped_df_jan_2019.loc[0]\n",
        "#Resampling Data in region j into one hour step\n",
        "cluster = cluster.resample('1h').sum() \n",
        "#Feature Engineering\n",
        "cluster['Date time'] = cluster.index\n",
        "cluster['Date time'] = pd.to_datetime(cluster['Date time'].dt.strftime('%Y-%m-%d %H'))\n",
        "cluster['hour']=cluster['Date time'].dt.hour \n",
        "cluster['day']=cluster['Date time'].dt.day\n",
        "cluster['dayofweek']=cluster['Date time'].dt.dayofweek  "
      ],
      "execution_count": null,
      "outputs": []
    },
    {
      "cell_type": "code",
      "metadata": {
        "id": "NpyDpYlkqSNi",
        "outputId": "8ebd132a-e1a8-4b0f-888f-677769e79f9e",
        "colab": {
          "base_uri": "https://localhost:8080/",
          "height": 235
        }
      },
      "source": [
        "cluster.head()"
      ],
      "execution_count": null,
      "outputs": [
        {
          "output_type": "execute_result",
          "data": {
            "text/html": [
              "<div>\n",
              "<style scoped>\n",
              "    .dataframe tbody tr th:only-of-type {\n",
              "        vertical-align: middle;\n",
              "    }\n",
              "\n",
              "    .dataframe tbody tr th {\n",
              "        vertical-align: top;\n",
              "    }\n",
              "\n",
              "    .dataframe thead th {\n",
              "        text-align: right;\n",
              "    }\n",
              "</style>\n",
              "<table border=\"1\" class=\"dataframe\">\n",
              "  <thead>\n",
              "    <tr style=\"text-align: right;\">\n",
              "      <th></th>\n",
              "      <th>demand</th>\n",
              "      <th>Date time</th>\n",
              "      <th>hour</th>\n",
              "      <th>day</th>\n",
              "      <th>dayofweek</th>\n",
              "    </tr>\n",
              "    <tr>\n",
              "      <th>time</th>\n",
              "      <th></th>\n",
              "      <th></th>\n",
              "      <th></th>\n",
              "      <th></th>\n",
              "      <th></th>\n",
              "    </tr>\n",
              "  </thead>\n",
              "  <tbody>\n",
              "    <tr>\n",
              "      <th>2009-01-01 00:00:00</th>\n",
              "      <td>1</td>\n",
              "      <td>2009-01-01 00:00:00</td>\n",
              "      <td>0</td>\n",
              "      <td>1</td>\n",
              "      <td>3</td>\n",
              "    </tr>\n",
              "    <tr>\n",
              "      <th>2009-01-01 01:00:00</th>\n",
              "      <td>0</td>\n",
              "      <td>2009-01-01 01:00:00</td>\n",
              "      <td>1</td>\n",
              "      <td>1</td>\n",
              "      <td>3</td>\n",
              "    </tr>\n",
              "    <tr>\n",
              "      <th>2009-01-01 02:00:00</th>\n",
              "      <td>0</td>\n",
              "      <td>2009-01-01 02:00:00</td>\n",
              "      <td>2</td>\n",
              "      <td>1</td>\n",
              "      <td>3</td>\n",
              "    </tr>\n",
              "    <tr>\n",
              "      <th>2009-01-01 03:00:00</th>\n",
              "      <td>0</td>\n",
              "      <td>2009-01-01 03:00:00</td>\n",
              "      <td>3</td>\n",
              "      <td>1</td>\n",
              "      <td>3</td>\n",
              "    </tr>\n",
              "    <tr>\n",
              "      <th>2009-01-01 04:00:00</th>\n",
              "      <td>0</td>\n",
              "      <td>2009-01-01 04:00:00</td>\n",
              "      <td>4</td>\n",
              "      <td>1</td>\n",
              "      <td>3</td>\n",
              "    </tr>\n",
              "  </tbody>\n",
              "</table>\n",
              "</div>"
            ],
            "text/plain": [
              "                     demand           Date time  hour  day  dayofweek\n",
              "time                                                                 \n",
              "2009-01-01 00:00:00       1 2009-01-01 00:00:00     0    1          3\n",
              "2009-01-01 01:00:00       0 2009-01-01 01:00:00     1    1          3\n",
              "2009-01-01 02:00:00       0 2009-01-01 02:00:00     2    1          3\n",
              "2009-01-01 03:00:00       0 2009-01-01 03:00:00     3    1          3\n",
              "2009-01-01 04:00:00       0 2009-01-01 04:00:00     4    1          3"
            ]
          },
          "metadata": {
            "tags": []
          },
          "execution_count": 58
        }
      ]
    },
    {
      "cell_type": "code",
      "metadata": {
        "id": "LrmrMWwdqUXM"
      },
      "source": [
        ""
      ],
      "execution_count": null,
      "outputs": []
    }
  ]
}